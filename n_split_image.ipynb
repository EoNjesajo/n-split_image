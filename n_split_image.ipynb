{
  "nbformat": 4,
  "nbformat_minor": 0,
  "metadata": {
    "colab": {
      "name": "n-split_image.ipynb",
      "provenance": [],
      "collapsed_sections": []
    },
    "kernelspec": {
      "name": "python3",
      "display_name": "Python 3"
    },
    "language_info": {
      "name": "python"
    },
    "accelerator": "GPU"
  },
  "cells": [
    {
      "cell_type": "code",
      "metadata": {
        "id": "Zx7jzZjI-27k"
      },
      "source": [
        "import os\n",
        "import numpy as np\n",
        "import cv2\n",
        "import matplotlib.pyplot as plt\n",
        "from torch.utils.data import DataLoader\n",
        "from torch.utils.data import Dataset as BaseDataset\n",
        "import albumentations as albu\n",
        "import torch\n",
        "import numpy as np\n",
        "import segmentation_models_pytorch as smp\n",
        "\n",
        "import json"
      ],
      "execution_count": null,
      "outputs": []
    },
    {
      "cell_type": "code",
      "metadata": {
        "id": "qh08JqNq-lKQ"
      },
      "source": [
        "workspace_path = 'workspace_path'"
      ],
      "execution_count": null,
      "outputs": []
    },
    {
      "cell_type": "code",
      "metadata": {
        "id": "D2YfdKfyatCi"
      },
      "source": [
        "train_path = os.path.join(workspace_path, 'training_set')\n",
        "x_train = os.path.join(train_path, 'images')\n",
        "y_train = os.path.join(train_path, 'labels')"
      ],
      "execution_count": null,
      "outputs": []
    },
    {
      "cell_type": "code",
      "metadata": {
        "id": "PKPIZae0_lBn"
      },
      "source": [
        "def visualize(**images):\n",
        "    \"\"\"PLot images in one row.\"\"\"\n",
        "    n = len(images)\n",
        "    plt.figure(figsize=(16, 5))\n",
        "    for i, (name, image) in enumerate(images.items()):\n",
        "        plt.subplot(1, n, i + 1)\n",
        "        plt.xticks([])\n",
        "        plt.yticks([])\n",
        "        plt.title(' '.join(name.split('_')).title())\n",
        "        plt.imshow(image)\n",
        "    plt.show()"
      ],
      "execution_count": null,
      "outputs": []
    },
    {
      "cell_type": "markdown",
      "metadata": {
        "id": "8ALEV0Hv-R4i"
      },
      "source": [
        "##4^n분할 이미지"
      ]
    },
    {
      "cell_type": "markdown",
      "source": [
        "### 4분할 이미지"
      ],
      "metadata": {
        "id": "CXGd0oRtBTPs"
      }
    },
    {
      "cell_type": "code",
      "source": [
        "import random\n",
        "from PIL import Image\n",
        "import matplotlib.pyplot as plt\n",
        "\n",
        "file_list = sorted(os.listdir(x_train))\n",
        "for i in range(0,800,4):\n",
        "    List = random.sample(file_list, 4)\n",
        "    images = []\n",
        "    labels = []\n",
        "    for j in List :\n",
        "        image = Image.open(os.path.join(x_train, j))\n",
        "        label = Image.open(os.path.join(y_train, j))\n",
        "        for h in range(0,1024,512):\n",
        "            for w in range(0,1024,512):\n",
        "                box = (w, h, w+512, h+512)\n",
        "                a = image.crop(box)  \n",
        "                images.append(a)\n",
        "                a = label.crop(box)\n",
        "                labels.append(a)\n",
        "    for k in range(0,4):\n",
        "        filename = 'SPLIT'+str(i+k)+'.png'\n",
        "\n",
        "        mixedImage = np.hstack((np.vstack((images[k],images[k+4])),np.vstack((images[k+8],images[k+12]))))\n",
        "        plt.imsave(os.path.join(x_train, filename),mixedImage)\n",
        "\n",
        "        mixedLabel = np.hstack((np.vstack((labels[k],labels[k+4])),np.vstack((labels[k+8],labels[k+12]))))\n",
        "        plt.imsave(os.path.join(y_train, filename),mixedLabel)"
      ],
      "metadata": {
        "id": "l_QHk8s8Vvh4"
      },
      "execution_count": null,
      "outputs": []
    },
    {
      "cell_type": "markdown",
      "source": [
        "### 16분할"
      ],
      "metadata": {
        "id": "3w5UMR5FBVWC"
      }
    },
    {
      "cell_type": "code",
      "metadata": {
        "id": "sBHdfog2FxqC"
      },
      "source": [
        "#16분할 \n",
        "import random\n",
        "from PIL import Image\n",
        "import matplotlib.pyplot as plt\n",
        "\n",
        "file_list = sorted(os.listdir(x_train))\n",
        "for i in range(0,800,16):\n",
        "  List = random.sample(file_list, 16)\n",
        "  images = []\n",
        "  labels = []\n",
        "  for j in List :\n",
        "    print(j)\n",
        "    image = Image.open(os.path.join(x_train, j))\n",
        "    label = Image.open(os.path.join(y_train, j))\n",
        "    for h in range(0,1024,256):\n",
        "      for w in range(0,1024,256):\n",
        "          box = (w, h, w+256, h+256)\n",
        "          a = image.crop(box)  \n",
        "          images.append(a)\n",
        "          a = label.crop(box)\n",
        "          labels.append(a)\n",
        "  for k in range(0,16):\n",
        "    filename = 'SPLIT'+str(i+k)+'.png'\n",
        "    mixedImage = []\n",
        "    mixedLabel = []\n",
        "    mixedImage.append(np.hstack((np.vstack((images[k],images[k+16])),np.vstack((images[k+32],images[k+48])))))\n",
        "    mixedImage.append(np.hstack((np.vstack((images[k+64],images[k+80])),np.vstack((images[k+96],images[k+112])))))\n",
        "    mixedImage.append(np.hstack((np.vstack((images[k+128],images[k+144])),np.vstack((images[k+160],images[k+176])))))\n",
        "    mixedImage.append(np.hstack((np.vstack((images[k+192],images[k+208])),np.vstack((images[k+224],images[k+240])))))\n",
        "    image1 = np.vstack((mixedImage[0], mixedImage[1]))\n",
        "    image2 = np.vstack((mixedImage[2], mixedImage[3]))\n",
        "    image3 = np.hstack((image1,image2))\n",
        "    plt.imsave(os.path.join(x_train, filename),image3)\n",
        "\n",
        "    mixedLabel.append(np.hstack((np.vstack((labels[k],labels[k+16])),np.vstack((labels[k+32],labels[k+48])))))\n",
        "    mixedLabel.append(np.hstack((np.vstack((labels[k+64],labels[k+80])),np.vstack((labels[k+96],labels[k+112])))))\n",
        "    mixedLabel.append(np.hstack((np.vstack((labels[k+128],labels[k+144])),np.vstack((labels[k+160],labels[k+176])))))\n",
        "    mixedLabel.append(np.hstack((np.vstack((labels[k+192],labels[k+208])),np.vstack((labels[k+224],labels[k+240])))))\n",
        "    label1 = np.vstack((mixedLabel[0], mixedLabel[1]))\n",
        "    label2 = np.vstack((mixedLabel[2], mixedLabel[3]))\n",
        "    label3 = np.hstack((label1,label2))\n",
        "    plt.imsave(os.path.join(y_train, filename),label3)"
      ],
      "execution_count": null,
      "outputs": []
    },
    {
      "cell_type": "markdown",
      "source": [
        "### 64분할"
      ],
      "metadata": {
        "id": "TlB5gvV_BWlw"
      }
    },
    {
      "cell_type": "code",
      "metadata": {
        "id": "R0Ww7iuqrjcq"
      },
      "source": [
        "#64분할 \n",
        "import random\n",
        "from PIL import Image\n",
        "import matplotlib.pyplot as plt\n",
        "\n",
        "file_list = sorted(os.listdir(x_train))\n",
        "for i in range(0,1920,64):\n",
        "  List = random.sample(file_list, 64)\n",
        "  images = []\n",
        "  labels = []\n",
        "  for j in List :\n",
        "    print(j)\n",
        "    image = Image.open(os.path.join(x_train, j))\n",
        "    label = Image.open(os.path.join(y_train, j))\n",
        "    for h in range(0,1024,128):\n",
        "      for w in range(0,1024,128):\n",
        "          box = (w, h, w+128, h+128)\n",
        "          a = image.crop(box)  \n",
        "          images.append(a)\n",
        "          a = label.crop(box)\n",
        "          labels.append(a)\n",
        "  for k in range(0,64):\n",
        "    filename = 'SPLIT'+str(i+k)+'.png'\n",
        "    cutedImage = []\n",
        "    Image4 = []\n",
        "    Image16 = []\n",
        "    cutedLabel = []\n",
        "    Label4 = []\n",
        "    Label16 = []\n",
        "\n",
        "    for a in range(0,4096,1024):\n",
        "      Image4.clear()\n",
        "      Label4.clear()\n",
        "      for b in range(0, 1024, 256):\n",
        "          cutedImage.clear()\n",
        "          cutedLabel.clear()\n",
        "          for c in range(0,193,64):\n",
        "            cutedImage.append(images[c+b+a+k])\n",
        "            cutedLabel.append(labels[c+b+a+k])\n",
        "          n=random.sample([0,1,2,3],4)\n",
        "          Image4.append(np.hstack((np.vstack((cutedImage[n[0]],cutedImage[n[1]])),np.vstack((cutedImage[n[2]],cutedImage[n[3]])))))  \n",
        "          Label4.append(np.hstack((np.vstack((cutedLabel[n[0]],cutedLabel[n[1]])),np.vstack((cutedLabel[n[2]],cutedLabel[n[3]]))))) \n",
        "     \n",
        "      n=random.sample([0,1,2,3],4)\n",
        "      Image16.append(np.hstack((np.vstack((Image4[n[0]],Image4[n[1]])),np.vstack((Image4[n[2]],Image4[n[3]])))))\n",
        "      Label16.append(np.hstack((np.vstack((Label4[n[0]],Label4[n[1]])),np.vstack((Label4[n[2]],Label4[n[3]])))))\n",
        "   \n",
        "    n=random.sample([0,1,2,3],4)\n",
        "    image1 = np.vstack((Image16[n[0]], Image16[n[1]]))\n",
        "    image2 = np.vstack((Image16[n[2]], Image16[n[3]]))\n",
        "    image3 = np.hstack((image1,image2))\n",
        "    plt.imsave(os.path.join(x_train, filename),image3)\n",
        "\n",
        "    Label1 = np.vstack((Label16[n[0]], Label16[n[1]]))\n",
        "    Label2 = np.vstack((Label16[n[2]], Label16[n[3]]))\n",
        "    Label3 = np.hstack((Label1,Label2))\n",
        "    plt.imsave(os.path.join(y_train, filename),Label3)"
      ],
      "execution_count": null,
      "outputs": []
    }
  ]
}